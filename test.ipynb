{
 "cells": [
  {
   "cell_type": "code",
   "execution_count": 1,
   "id": "6b9b2384",
   "metadata": {},
   "outputs": [
    {
     "name": "stderr",
     "output_type": "stream",
     "text": [
      "100%|████████████████████████████████████████████████████████████████████████████████| 170/170 [00:03<00:00, 52.87it/s]\n",
      "100%|████████████████████████████████████████████████████████████████████████████████████| 6/6 [00:00<00:00, 99.82it/s]\n",
      "100%|████████████████████████████████████████████████████████████████████████████████████| 6/6 [00:00<00:00, 89.54it/s]"
     ]
    },
    {
     "name": "stdout",
     "output_type": "stream",
     "text": [
      "\n",
      "----------------------\n",
      "Wall to environment view factors :\n",
      "\tSky  0.3418\n",
      "\tBuilding 1  0.2506\n",
      "\tBuilding 2  0.0312\n",
      "Ground view factor :\n",
      "\tGround  0.3764\n"
     ]
    },
    {
     "name": "stderr",
     "output_type": "stream",
     "text": [
      "\n"
     ]
    }
   ],
   "source": [
    "import numpy as np\n",
    "import pyvista as pv\n",
    "from tqdm import tqdm\n",
    "import pyviewfactor as pvf\n",
    "\n",
    "# read the geometry\n",
    "mesh =pv.read(\"./examples/built_envmt.vtk\")\n",
    "meshpoly = pvf.fc_unstruc2poly(mesh) # convert to polydata for obstruction check\n",
    "\n",
    "# identify who is who\n",
    "i_wall = np.where(mesh[\"wall_names\"]=='wall')[0]\n",
    "i_sky = np.where(mesh[\"wall_names\"]=='sky')[0]\n",
    "i_building1 = np.where(mesh[\"wall_names\"]=='building1')[0]\n",
    "i_building2 = np.where(mesh[\"wall_names\"]=='building2')[0]\n",
    "\n",
    "# get the different elements\n",
    "wall = mesh.extract_cells(i_wall)\n",
    "sky = mesh.extract_cells(i_sky)\n",
    "building1 = mesh.extract_cells(i_building1)\n",
    "building2 = mesh.extract_cells(i_building2)\n",
    "\n",
    "# convert to polydata\n",
    "wall = pvf.fc_unstruc2poly(wall)\n",
    "\n",
    "Fsky = 0\n",
    "# for all cells constituting the ensemble\n",
    "for patch in tqdm(i_sky):\n",
    "    sky = mesh.extract_cells(patch) # extract one cell\n",
    "    sky = pvf.fc_unstruc2poly(sky) # convert to polydata\n",
    "    if pvf.get_visibility(sky, wall): # if the can see each other...\n",
    "        if pvf.get_visibility_raytrace(sky, wall, meshpoly): # ... if no obstruction\n",
    "            Fsky += pvf.compute_viewfactor(sky, wall) # compute and increment view factor : F_i->(j+k) = F_i->j + F_i->k\n",
    "\n",
    "# same for building 1\n",
    "Fbuilding1 = 0\n",
    "for patch in tqdm(i_building1):\n",
    "    bldng1 = mesh.extract_cells(patch)\n",
    "    bldng1 = pvf.fc_unstruc2poly(bldng1)\n",
    "    if pvf.get_visibility(bldng1, wall):\n",
    "        if pvf.get_visibility_raytrace(bldng1, wall, meshpoly):\n",
    "            Fbuilding1 += pvf.compute_viewfactor(bldng1, wall)\n",
    "\n",
    "# same for building 2\n",
    "Fbuilding2 = 0\n",
    "for patch in tqdm(i_building2):\n",
    "    bldng2 = mesh.extract_cells(patch)\n",
    "    bldng2 = pvf.fc_unstruc2poly(bldng2)\n",
    "    if pvf.get_visibility(bldng2, wall):\n",
    "        if pvf.get_visibility_raytrace(bldng2, wall, meshpoly):\n",
    "            Fbuilding2 += pvf.compute_viewfactor(bldng2, wall)\n",
    "\n",
    "# complementarity implies \\sigma F_i = 1 : compute viewfactor to ground\n",
    "Fground = 1-Fbuilding1-Fbuilding2-Fsky\n",
    "\n",
    "print('\\n----------------------')\n",
    "print('Wall to environment view factors :')\n",
    "print('\\tSky ', round(Fsky, 4))\n",
    "print('\\tBuilding 1 ', round(Fbuilding1, 4))\n",
    "print('\\tBuilding 2 ', round(Fbuilding2, 4))\n",
    "print('Ground view factor :')\n",
    "print('\\tGround ', round(Fground, 4))\n"
   ]
  },
  {
   "cell_type": "code",
   "execution_count": 3,
   "id": "114c1a82",
   "metadata": {},
   "outputs": [
    {
     "data": {
      "text/plain": [
       "pyvista.core.pointset.UnstructuredGrid"
      ]
     },
     "execution_count": 3,
     "metadata": {},
     "output_type": "execute_result"
    }
   ],
   "source": [
    "type(mesh)"
   ]
  },
  {
   "cell_type": "code",
   "execution_count": 5,
   "id": "4d6de30d",
   "metadata": {},
   "outputs": [
    {
     "data": {
      "text/html": [
       "\n",
       "<table>\n",
       "<tr><th>UnstructuredGrid</th><th>Information</th></tr>\n",
       "<tr><td>N Cells</td><td>0</td></tr>\n",
       "<tr><td>N Points</td><td>0</td></tr>\n",
       "<tr><td>X Bounds</td><td>1.000e+00, -1.000e+00</td></tr>\n",
       "<tr><td>Y Bounds</td><td>1.000e+00, -1.000e+00</td></tr>\n",
       "<tr><td>Z Bounds</td><td>1.000e+00, -1.000e+00</td></tr>\n",
       "<tr><td>N Arrays</td><td>0</td></tr>\n",
       "</table>\n",
       "\n"
      ],
      "text/plain": [
       "UnstructuredGrid (0x1c5cf06a8e0)\n",
       "  N Cells:\t0\n",
       "  N Points:\t0\n",
       "  X Bounds:\t1.000e+00, -1.000e+00\n",
       "  Y Bounds:\t1.000e+00, -1.000e+00\n",
       "  Z Bounds:\t1.000e+00, -1.000e+00\n",
       "  N Arrays:\t0"
      ]
     },
     "execution_count": 5,
     "metadata": {},
     "output_type": "execute_result"
    }
   ],
   "source": [
    "\n",
    "pv.UnstructuredGrid()"
   ]
  },
  {
   "cell_type": "code",
   "execution_count": null,
   "id": "de38c356",
   "metadata": {},
   "outputs": [],
   "source": []
  },
  {
   "cell_type": "code",
   "execution_count": null,
   "id": "6f74af0e",
   "metadata": {},
   "outputs": [],
   "source": []
  }
 ],
 "metadata": {
  "kernelspec": {
   "display_name": "lrtzc",
   "language": "python",
   "name": "lrtzc"
  },
  "language_info": {
   "codemirror_mode": {
    "name": "ipython",
    "version": 3
   },
   "file_extension": ".py",
   "mimetype": "text/x-python",
   "name": "python",
   "nbconvert_exporter": "python",
   "pygments_lexer": "ipython3",
   "version": "3.9.13"
  }
 },
 "nbformat": 4,
 "nbformat_minor": 5
}
